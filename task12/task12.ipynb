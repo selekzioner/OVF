{
 "cells": [
  {
   "cell_type": "code",
   "execution_count": 23,
   "metadata": {},
   "outputs": [],
   "source": [
    "import numpy as np\n",
    "import matplotlib.pyplot as plt\n",
    "import pyqtgraph as pg\n",
    "\n",
    "from scipy.fft import fft"
   ]
  },
  {
   "cell_type": "code",
   "execution_count": 24,
   "metadata": {},
   "outputs": [],
   "source": [
    "def rect_window(N):\n",
    "    return lambda x: 1 if abs(x) < N else 0\n",
    "\n",
    "def hann_window(N):\n",
    "    return lambda n: 0.5 * (1 - np.cos(2 * np.pi * n / (N)))\n",
    "\n",
    "def applyWindow(arr, window):\n",
    "    return [window(arr.shape[0])(i) * arr[i] for i in range(arr.shape[0])]"
   ]
  },
  {
   "cell_type": "code",
   "execution_count": 25,
   "metadata": {},
   "outputs": [],
   "source": [
    "def function(a0, w0, a1, w1, x):\n",
    "    return a0 * np.sin(w0 * x) + a1 * np.sin(w1 * x)"
   ]
  },
  {
   "cell_type": "code",
   "execution_count": 26,
   "metadata": {},
   "outputs": [],
   "source": [
    "def plot_fft(arr):\n",
    "    plt.plot([*arr[len(arr)//2:], *arr[:len(arr)//2]])"
   ]
  },
  {
   "cell_type": "code",
   "execution_count": 48,
   "metadata": {},
   "outputs": [],
   "source": [
    "t = 10 * np.pi\n",
    "a0 = 1\n",
    "a1 = 0.002\n",
    "w0 = 5.1\n",
    "w1 = 25.5"
   ]
  },
  {
   "cell_type": "code",
   "execution_count": 49,
   "metadata": {},
   "outputs": [],
   "source": [
    "tVals = np.linspace(0, t, 1000)\n",
    "func = function(a0, w0, a1, w1, tVals)"
   ]
  },
  {
   "cell_type": "code",
   "execution_count": 50,
   "metadata": {},
   "outputs": [],
   "source": [
    "rect_func = func#applyWindow(func, rect_window)\n",
    "rect_func_fft = fft(func, len(func))\n",
    "\n",
    "hann_func = applyWindow(func, hann_window)\n",
    "hann_func_fft = fft(hann_func, len(hann_func))"
   ]
  },
  {
   "cell_type": "code",
   "execution_count": 51,
   "metadata": {},
   "outputs": [
    {
     "data": {
      "text/plain": [
       "<pyqtgraph.graphicsItems.PlotDataItem.PlotDataItem at 0x1ca21472b88>"
      ]
     },
     "execution_count": 51,
     "metadata": {},
     "output_type": "execute_result"
    }
   ],
   "source": [
    "%matplotlib qt\n",
    "\n",
    "plt = pg.plot()\n",
    "plt.addLegend()\n",
    "labelStyle = {'color': '#FFF', 'font-size': '14pt'}\n",
    "plt.setLabel('left', 'I', **labelStyle)\n",
    "plt.setLabel('bottom', 'freq', **labelStyle)\n",
    "plt.plot(np.log10(np.abs(hann_func_fft)), pen=pg.mkPen('g', width=3), name='hann')\n",
    "plt.plot(np.log10(np.abs(rect_func_fft)), pen=pg.mkPen('r', width=3), name='rect')"
   ]
  },
  {
   "cell_type": "code",
   "execution_count": null,
   "metadata": {},
   "outputs": [],
   "source": []
  },
  {
   "cell_type": "code",
   "execution_count": null,
   "metadata": {},
   "outputs": [],
   "source": []
  }
 ],
 "metadata": {
  "kernelspec": {
   "display_name": "Python 3",
   "language": "python",
   "name": "python3"
  },
  "language_info": {
   "codemirror_mode": {
    "name": "ipython",
    "version": 3
   },
   "file_extension": ".py",
   "mimetype": "text/x-python",
   "name": "python",
   "nbconvert_exporter": "python",
   "pygments_lexer": "ipython3",
   "version": "3.7.5"
  }
 },
 "nbformat": 4,
 "nbformat_minor": 4
}
