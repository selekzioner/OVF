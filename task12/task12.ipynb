{
 "cells": [
  {
   "cell_type": "code",
   "execution_count": 12,
   "metadata": {},
   "outputs": [],
   "source": [
    "import numpy as np\n",
    "import matplotlib.pyplot as plt\n",
    "\n",
    "from scipy.fft import fft, ifft"
   ]
  },
  {
   "cell_type": "code",
   "execution_count": 2,
   "metadata": {},
   "outputs": [],
   "source": [
    "def rect_window(N):\n",
    "    return lambda x: 1 if abs(x) < N else 0\n",
    "\n",
    "def hann_window(N):\n",
    "    return lambda n: 0.5 * (1 - np.cos(2 * np.pi * n / (N)))\n",
    "\n",
    "def applyWindow(arr, window):\n",
    "    return [window(arr.shape[0])(i) * arr[i] for i in range(arr.shape[0])]"
   ]
  },
  {
   "cell_type": "code",
   "execution_count": 3,
   "metadata": {},
   "outputs": [],
   "source": [
    "def function(a0, w0, a1, w1, x):\n",
    "    return a0 * np.sin(w0 * x) + a1 * np.sin(w1 * x)"
   ]
  },
  {
   "cell_type": "code",
   "execution_count": 4,
   "metadata": {},
   "outputs": [],
   "source": [
    "def plot_fft(arr):\n",
    "    plt.plot([*arr[len(arr)//2:], *arr[:len(arr)//2]])"
   ]
  },
  {
   "cell_type": "code",
   "execution_count": 5,
   "metadata": {},
   "outputs": [],
   "source": [
    "t = 2 * np.pi\n",
    "a0 = 1\n",
    "a1 = 0.002\n",
    "w0 = 5.1\n",
    "w1 = 25.5"
   ]
  },
  {
   "cell_type": "code",
   "execution_count": 8,
   "metadata": {},
   "outputs": [],
   "source": [
    "%matplotlib qt\n",
    "tVals = np.linspace(-t, t, 200)\n",
    "func = function(a0, w0, a1, w1, tVals)\n",
    "plt.figure(figsize=(10, 3))\n",
    "plt.plot(tVals, func)\n",
    "plt.show()"
   ]
  },
  {
   "cell_type": "code",
   "execution_count": 9,
   "metadata": {},
   "outputs": [],
   "source": [
    "%matplotlib qt\n",
    "\n",
    "rect_func = applyWindow(func, rect_window)\n",
    "rect_func_fft = fft(rect_func)\n",
    "\n",
    "hann_func = applyWindow(func, hann_window)\n",
    "hann_func_fft = fft(hann_func)\n",
    "\n",
    "plt.figure(figsize=(10, 3))\n",
    "plt.plot(tVals, hann_func)\n",
    "plt.plot(tVals, rect_func)\n",
    "plt.legend([\"hann\", \"rect\"])\n",
    "plt.show()\n",
    "\n",
    "plt.figure(figsize=(10, 3))\n",
    "plot_fft(np.abs(hann_func_fft))\n",
    "plot_fft(np.abs(rect_func_fft))\n",
    "plt.legend([\"hann\", \"rect\"])\n",
    "plt.show()"
   ]
  },
  {
   "cell_type": "code",
   "execution_count": null,
   "metadata": {},
   "outputs": [],
   "source": []
  }
 ],
 "metadata": {
  "kernelspec": {
   "display_name": "Python 3",
   "language": "python",
   "name": "python3"
  },
  "language_info": {
   "codemirror_mode": {
    "name": "ipython",
    "version": 3
   },
   "file_extension": ".py",
   "mimetype": "text/x-python",
   "name": "python",
   "nbconvert_exporter": "python",
   "pygments_lexer": "ipython3",
   "version": "3.8.5"
  }
 },
 "nbformat": 4,
 "nbformat_minor": 4
}
