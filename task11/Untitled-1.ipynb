{
 "cells": [
  {
   "cell_type": "code",
   "execution_count": 11,
   "metadata": {},
   "outputs": [],
   "source": [
    "import numpy as np\n",
    "from matplotlib import pyplot as plt\n",
    "import pyqtgraph as pg\n",
    "\n",
    "%matplotlib qt"
   ]
  },
  {
   "cell_type": "code",
   "execution_count": 12,
   "metadata": {},
   "outputs": [],
   "source": [
    "def calculate_eigenvector(a: np.array, b: np.array, c: np.array, d: np.array) -> np.array:\n",
    "    n = d.shape[0]\n",
    "    b_new = b.astype(dtype=float)\n",
    "    d_new = d.astype(dtype=float)\n",
    "\n",
    "    for i in range(1, n):\n",
    "        k = a[i - 1] / b_new[i - 1]\n",
    "        b_new[i] = b_new[i] - k * c[i - 1] \n",
    "        d_new[i] = d_new[i] - k * d_new[i - 1] \n",
    "\n",
    "    x = b_new.astype(dtype=float)\n",
    "    x[-1] = d_new[-1] / b_new[-1]\n",
    "\n",
    "    for i in range(n - 2, 0 - 1, -1):\n",
    "        x[i] = (d_new[i] - c[i] * x[i + 1]) / b_new[i]\n",
    "\n",
    "    return x\n",
    "\n",
    "\n",
    "def solve(a: np.array, b: np.array, c: np.array, start_eigvec: np.array, iters: int):\n",
    "    eigenvector = start_eigvec / np.linalg.norm(start_eigvec)\n",
    "    eigenvalue = np.nan\n",
    "\n",
    "    for _ in range(iters):\n",
    "        eigenvector = calculate_eigenvector(a, b, c, eigenvector)\n",
    "        norm = np.linalg.norm(eigenvector)\n",
    "        eigenvalue = 1 / norm\n",
    "        eigenvector /= norm\n",
    "        \n",
    "    return eigenvector / np.linalg.norm(eigenvector), eigenvalue"
   ]
  },
  {
   "cell_type": "code",
   "execution_count": 24,
   "metadata": {},
   "outputs": [
    {
     "data": {
      "text/plain": [
       "<pyqtgraph.graphicsItems.PlotDataItem.PlotDataItem at 0x20532a6f708>"
      ]
     },
     "execution_count": 24,
     "metadata": {},
     "output_type": "execute_result"
    }
   ],
   "source": [
    "n = 1000\n",
    "x_width = 20\n",
    "\n",
    "x = np.linspace(-x_width / 2, x_width / 2, n)\n",
    "h = x[1] - x[0]\n",
    "u = x**2 / 2\n",
    "\n",
    "a = np.full(x.shape[0] - 1, -1 / h**2 / 2, dtype=float)\n",
    "b = np.full(x.shape[0], 1 / h**2, dtype=float)\n",
    "b += u\n",
    "\n",
    "origin = np.exp(-x**2 / 2)\n",
    "origin /= np.linalg.norm(origin)\n",
    "\n",
    "rand_state = np.random.RandomState(1)\n",
    "\n",
    "# определение точности в зависимости от количества итераций\n",
    "\n",
    "precisions = np.zeros(50)\n",
    "for iters in range(50):\n",
    "    eigenvector, eigenval = solve(a, b, a, start_eigvec=rand_state.random_sample(x.shape), iters=iters)\n",
    "    precisions[iters] = np.mean(origin - eigenvector)\n",
    "\n",
    "plot = pg.plot()\n",
    "plot.setWindowTitle(f\"Eigenvalue = {eigenval}\")\n",
    "plot.plot(x, eigenvector, lw=5, pen=pg.mkPen('g', width=8), label=\"solution\")\n",
    "plot.plot(x, origin, pen=pg.mkPen('r', width=4), label=\"origin\")"
   ]
  },
  {
   "cell_type": "code",
   "execution_count": 25,
   "metadata": {},
   "outputs": [
    {
     "data": {
      "text/plain": [
       "array([-1.40952484e-02, -3.37682733e-03, -3.91985614e-04, -6.20875017e-05,\n",
       "       -1.27477887e-05, -1.86833455e-06, -2.85122713e-07,  3.87767119e-08,\n",
       "        1.08930054e-07,  1.21393478e-07,  1.24368143e-07,  1.24865205e-07,\n",
       "        1.24978961e-07,  1.25001675e-07,  1.25005304e-07,  1.25006138e-07,\n",
       "        1.25006293e-07,  1.25006334e-07,  1.25006340e-07,  1.25006341e-07,\n",
       "        1.25006342e-07,  1.25006342e-07,  1.25006342e-07,  1.25006342e-07,\n",
       "        1.25006342e-07,  1.25006342e-07,  1.25006342e-07,  1.25006342e-07,\n",
       "        1.25006342e-07,  1.25006342e-07,  1.25006342e-07,  1.25006342e-07,\n",
       "        1.25006342e-07,  1.25006342e-07,  1.25006342e-07,  1.25006342e-07,\n",
       "        1.25006342e-07,  1.25006342e-07,  1.25006342e-07,  1.25006342e-07,\n",
       "        1.25006342e-07,  1.25006342e-07,  1.25006342e-07,  1.25006342e-07,\n",
       "        1.25006342e-07,  1.25006342e-07,  1.25006342e-07,  1.25006342e-07,\n",
       "        1.25006342e-07,  1.25006342e-07])"
      ]
     },
     "execution_count": 25,
     "metadata": {},
     "output_type": "execute_result"
    }
   ],
   "source": [
    "precisions"
   ]
  },
  {
   "cell_type": "code",
   "execution_count": null,
   "metadata": {},
   "outputs": [],
   "source": []
  }
 ],
 "metadata": {
  "interpreter": {
   "hash": "f5d7aa7e547a2514287ed724758828fcf118598a33eab868a3e4e4d45b802c9f"
  },
  "kernelspec": {
   "display_name": "Python 3.7.5 64-bit",
   "language": "python",
   "name": "python3"
  },
  "language_info": {
   "codemirror_mode": {
    "name": "ipython",
    "version": 3
   },
   "file_extension": ".py",
   "mimetype": "text/x-python",
   "name": "python",
   "nbconvert_exporter": "python",
   "pygments_lexer": "ipython3",
   "version": "3.7.5"
  },
  "orig_nbformat": 4
 },
 "nbformat": 4,
 "nbformat_minor": 2
}
