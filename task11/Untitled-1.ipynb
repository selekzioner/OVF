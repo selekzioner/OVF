{
 "cells": [
  {
   "cell_type": "code",
   "execution_count": 3,
   "metadata": {},
   "outputs": [],
   "source": [
    "import numpy as np\n",
    "from matplotlib import pyplot as plt\n",
    "import pyqtgraph as pg\n",
    "\n",
    "%matplotlib qt"
   ]
  },
  {
   "cell_type": "code",
   "execution_count": 4,
   "metadata": {},
   "outputs": [],
   "source": [
    "def calculate_eigenvector(a: np.array, b: np.array, c: np.array, d: np.array) -> np.array:\n",
    "    n = d.shape[0]\n",
    "    b_new = b.astype(dtype=float)\n",
    "    d_new = d.astype(dtype=float)\n",
    "\n",
    "    for i in range(1, n):\n",
    "        k = a[i - 1] / b_new[i - 1]\n",
    "        b_new[i] = b_new[i] - k * c[i - 1] \n",
    "        d_new[i] = d_new[i] - k * d_new[i - 1] \n",
    "\n",
    "    x = b_new.astype(dtype=float)\n",
    "    x[-1] = d_new[-1] / b_new[-1]\n",
    "\n",
    "    for i in range(n - 2, 0 - 1, -1):\n",
    "        x[i] = (d_new[i] - c[i] * x[i + 1]) / b_new[i]\n",
    "\n",
    "    return x\n",
    "\n",
    "\n",
    "def solve(a: np.array, b: np.array, c: np.array, start_eigvec: np.array, iters: int):\n",
    "    eigenvector = start_eigvec / np.linalg.norm(start_eigvec)\n",
    "    eigenvalue = np.nan\n",
    "\n",
    "    for _ in range(iters):\n",
    "        eigenvector = calculate_eigenvector(a, b, c, eigenvector)\n",
    "        norm = np.linalg.norm(eigenvector)\n",
    "        eigenvalue = 1 / norm\n",
    "        eigenvector /= norm\n",
    "        \n",
    "    return eigenvector / np.linalg.norm(eigenvector), eigenvalue"
   ]
  },
  {
   "cell_type": "code",
   "execution_count": 5,
   "metadata": {},
   "outputs": [
    {
     "data": {
      "text/plain": [
       "<pyqtgraph.graphicsItems.PlotDataItem.PlotDataItem at 0x1c06ef09ee8>"
      ]
     },
     "execution_count": 5,
     "metadata": {},
     "output_type": "execute_result"
    }
   ],
   "source": [
    "n = 1000\n",
    "x_width = 20\n",
    "\n",
    "x = np.linspace(-x_width / 2, x_width / 2, n)\n",
    "h = x[1] - x[0]\n",
    "u = x**2 / 2\n",
    "\n",
    "a = np.full(x.shape[0] - 1, -1 / h**2 / 2, dtype=float)\n",
    "b = np.full(x.shape[0], 1 / h**2, dtype=float)\n",
    "b += u\n",
    "\n",
    "rand_state = np.random.RandomState(1)\n",
    "eigenvector, eigenval = solve(a, b, a, start_eigvec=rand_state.random_sample(x.shape), iters=100)\n",
    "\n",
    "origin = np.exp(-x**2 / 2)\n",
    "origin /= np.linalg.norm(origin)\n",
    "\n",
    "plot = pg.plot()\n",
    "plot.setWindowTitle(f\"Eigenvalue = {eigenval}\")\n",
    "plot.plot(x, eigenvector, lw=5, pen=pg.mkPen('g', width=8), label=\"solution\")\n",
    "plot.plot(x, origin, pen=pg.mkPen('r', width=4), label=\"origin\")"
   ]
  },
  {
   "cell_type": "code",
   "execution_count": null,
   "metadata": {},
   "outputs": [],
   "source": []
  }
 ],
 "metadata": {
  "interpreter": {
   "hash": "f5d7aa7e547a2514287ed724758828fcf118598a33eab868a3e4e4d45b802c9f"
  },
  "kernelspec": {
   "display_name": "Python 3.7.5 64-bit",
   "language": "python",
   "name": "python3"
  },
  "language_info": {
   "codemirror_mode": {
    "name": "ipython",
    "version": 3
   },
   "file_extension": ".py",
   "mimetype": "text/x-python",
   "name": "python",
   "nbconvert_exporter": "python",
   "pygments_lexer": "ipython3",
   "version": "3.7.5"
  },
  "orig_nbformat": 4
 },
 "nbformat": 4,
 "nbformat_minor": 2
}
