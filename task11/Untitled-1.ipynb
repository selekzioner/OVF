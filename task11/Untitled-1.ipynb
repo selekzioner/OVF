{
 "cells": [
  {
   "cell_type": "code",
   "execution_count": 1,
   "metadata": {},
   "outputs": [],
   "source": [
    "import numpy as np\n",
    "from matplotlib import pyplot as plt\n",
    "import pyqtgraph as pg\n",
    "\n",
    "%matplotlib qt"
   ]
  },
  {
   "cell_type": "code",
   "execution_count": 4,
   "metadata": {},
   "outputs": [],
   "source": [
    "n = 1000\n",
    "x_width = 20\n",
    "\n",
    "x = np.linspace(-x_width / 2, x_width / 2, n)\n",
    "h = x[1] - x[0]\n",
    "u = x**2 / 2\n",
    "\n",
    "a = np.full(x.shape[0] - 1, -1 / h**2 / 2, dtype=float)\n",
    "b = np.full(x.shape[0], 1 / h**2, dtype=float)\n",
    "b += u\n",
    "\n",
    "origin = np.exp(-x**2 / 2)\n",
    "origin /= np.linalg.norm(origin)"
   ]
  },
  {
   "cell_type": "code",
   "execution_count": 30,
   "metadata": {},
   "outputs": [],
   "source": [
    "def calculate_eigenvector(a: np.array, b: np.array, c: np.array, d: np.array) -> np.array:\n",
    "    n = d.shape[0]\n",
    "    b_new = b.astype(dtype=float)\n",
    "    d_new = d.astype(dtype=float)\n",
    "\n",
    "    for i in range(1, n):\n",
    "        k = a[i - 1] / b_new[i - 1]\n",
    "        b_new[i] = b_new[i] - k * c[i - 1] \n",
    "        d_new[i] = d_new[i] - k * d_new[i - 1] \n",
    "\n",
    "    x = b_new.astype(dtype=float)\n",
    "    x[-1] = d_new[-1] / b_new[-1]\n",
    "\n",
    "    for i in range(n - 2, 0 - 1, -1):\n",
    "        x[i] = (d_new[i] - c[i] * x[i + 1]) / b_new[i]\n",
    "\n",
    "    return x\n",
    "\n",
    "\n",
    "def solve(a: np.array, b: np.array, c: np.array, start_eigvec: np.array, max_iters: int, tol: float):\n",
    "    eigenvector = start_eigvec / np.linalg.norm(start_eigvec)\n",
    "    eigenvalue = np.nan\n",
    "\n",
    "    for i in range(max_iters):\n",
    "        eigenvector = calculate_eigenvector(a, b, c, eigenvector)\n",
    "        norm = np.linalg.norm(eigenvector)\n",
    "        eigenvalue = 1 / norm\n",
    "        eigenvector /= norm\n",
    "\n",
    "        if np.abs(np.mean(origin - eigenvector / np.linalg.norm(eigenvector))) < tol:\n",
    "            print(\"iterations count: \", i)\n",
    "            return eigenvector / np.linalg.norm(eigenvector), eigenvalue\n",
    "    \n",
    "    print(\"iterations count: \", max_iters)\n",
    "    return eigenvector / np.linalg.norm(eigenvector), eigenvalue"
   ]
  },
  {
   "cell_type": "code",
   "execution_count": 44,
   "metadata": {},
   "outputs": [
    {
     "name": "stdout",
     "output_type": "stream",
     "text": [
      "iterations count:  6\n"
     ]
    },
    {
     "data": {
      "text/plain": [
       "<pyqtgraph.graphicsItems.PlotDataItem.PlotDataItem at 0x25ea937ff78>"
      ]
     },
     "execution_count": 44,
     "metadata": {},
     "output_type": "execute_result"
    }
   ],
   "source": [
    "\n",
    "\n",
    "rand_state = np.random.RandomState(1)\n",
    "\n",
    "# определение точности в зависимости от количества итераций\n",
    "eigenvector, eigenval = solve(a, b, a, start_eigvec=rand_state.random_sample(x.shape), max_iters=100, tol=0.00000005)\n",
    "\n",
    "plot = pg.plot()\n",
    "plot.setWindowTitle(f\"Eigenvalue = {eigenval}\")\n",
    "plot.plot(x, eigenvector, lw=5, pen=pg.mkPen('g', width=8), label=\"solution\")\n",
    "plot.plot(x, origin, pen=pg.mkPen('r', width=4), label=\"origin\")"
   ]
  },
  {
   "cell_type": "code",
   "execution_count": 9,
   "metadata": {},
   "outputs": [
    {
     "data": {
      "text/plain": [
       "0.003157028238385423"
      ]
     },
     "execution_count": 9,
     "metadata": {},
     "output_type": "execute_result"
    }
   ],
   "source": [
    "precision = np.abs(np.mean(origin - eigenvector))\n",
    "precision"
   ]
  },
  {
   "cell_type": "code",
   "execution_count": 34,
   "metadata": {},
   "outputs": [
    {
     "name": "stdout",
     "output_type": "stream",
     "text": [
      "iterations count:  0\n",
      "iterations count:  1\n",
      "iterations count:  2\n",
      "iterations count:  3\n",
      "iterations count:  4\n",
      "iterations count:  5\n",
      "iterations count:  6\n",
      "iterations count:  7\n",
      "iterations count:  8\n",
      "iterations count:  9\n",
      "iterations count:  10\n",
      "iterations count:  11\n",
      "iterations count:  12\n",
      "iterations count:  13\n",
      "iterations count:  14\n",
      "iterations count:  15\n",
      "iterations count:  16\n",
      "iterations count:  17\n",
      "iterations count:  18\n",
      "iterations count:  19\n",
      "iterations count:  20\n",
      "iterations count:  21\n",
      "iterations count:  22\n",
      "iterations count:  23\n",
      "iterations count:  24\n",
      "iterations count:  25\n",
      "iterations count:  26\n",
      "iterations count:  27\n",
      "iterations count:  28\n",
      "iterations count:  29\n",
      "iterations count:  30\n",
      "iterations count:  31\n",
      "iterations count:  32\n",
      "iterations count:  33\n",
      "iterations count:  34\n",
      "iterations count:  35\n",
      "iterations count:  36\n",
      "iterations count:  37\n",
      "iterations count:  38\n",
      "iterations count:  39\n",
      "iterations count:  40\n",
      "iterations count:  41\n",
      "iterations count:  42\n",
      "iterations count:  43\n",
      "iterations count:  44\n",
      "iterations count:  45\n",
      "iterations count:  46\n",
      "iterations count:  47\n",
      "iterations count:  48\n",
      "iterations count:  49\n"
     ]
    }
   ],
   "source": [
    "precisions = np.zeros(50)\n",
    "for max_iters in range(50):\n",
    "    eigenvector, eigenval = solve(a, b, a, start_eigvec=rand_state.random_sample(x.shape), max_iters=max_iters, tol = 0.00000000000000000000000000000000001)\n",
    "    precisions[max_iters] = np.mean(origin - eigenvector)"
   ]
  },
  {
   "cell_type": "code",
   "execution_count": 35,
   "metadata": {},
   "outputs": [
    {
     "data": {
      "text/plain": [
       "array([-1.42137850e-02, -3.30032548e-03, -3.83944289e-04, -7.05218407e-05,\n",
       "       -1.03166356e-05, -1.97161223e-06, -3.11269210e-07,  4.41494293e-08,\n",
       "        1.06889071e-07,  1.21809338e-07,  1.24300117e-07,  1.24869374e-07,\n",
       "        1.24983001e-07,  1.25001152e-07,  1.25005324e-07,  1.25006101e-07,\n",
       "        1.25006302e-07,  1.25006333e-07,  1.25006340e-07,  1.25006341e-07,\n",
       "        1.25006342e-07,  1.25006342e-07,  1.25006342e-07,  1.25006342e-07,\n",
       "        1.25006342e-07,  1.25006342e-07,  1.25006342e-07,  1.25006342e-07,\n",
       "        1.25006342e-07,  1.25006342e-07,  1.25006342e-07,  1.25006342e-07,\n",
       "        1.25006342e-07,  1.25006342e-07,  1.25006342e-07,  1.25006342e-07,\n",
       "        1.25006342e-07,  1.25006342e-07,  1.25006342e-07,  1.25006342e-07,\n",
       "        1.25006342e-07,  1.25006342e-07,  1.25006342e-07,  1.25006342e-07,\n",
       "        1.25006342e-07,  1.25006342e-07,  1.25006342e-07,  1.25006342e-07,\n",
       "        1.25006342e-07,  1.25006342e-07])"
      ]
     },
     "execution_count": 35,
     "metadata": {},
     "output_type": "execute_result"
    }
   ],
   "source": [
    "precisions"
   ]
  },
  {
   "cell_type": "code",
   "execution_count": null,
   "metadata": {},
   "outputs": [],
   "source": []
  }
 ],
 "metadata": {
  "interpreter": {
   "hash": "f5d7aa7e547a2514287ed724758828fcf118598a33eab868a3e4e4d45b802c9f"
  },
  "kernelspec": {
   "display_name": "Python 3.7.5 64-bit",
   "language": "python",
   "name": "python3"
  },
  "language_info": {
   "codemirror_mode": {
    "name": "ipython",
    "version": 3
   },
   "file_extension": ".py",
   "mimetype": "text/x-python",
   "name": "python",
   "nbconvert_exporter": "python",
   "pygments_lexer": "ipython3",
   "version": "3.7.5"
  },
  "orig_nbformat": 4
 },
 "nbformat": 4,
 "nbformat_minor": 2
}
